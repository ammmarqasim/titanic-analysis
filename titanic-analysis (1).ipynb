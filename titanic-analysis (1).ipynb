{
 "cells": [
  {
   "cell_type": "code",
   "execution_count": 1,
   "id": "b8caed30",
   "metadata": {
    "_cell_guid": "b1076dfc-b9ad-4769-8c92-a6c4dae69d19",
    "_uuid": "8f2839f25d086af736a60e9eeb907d3b93b6e0e5",
    "execution": {
     "iopub.execute_input": "2023-11-03T13:03:45.528725Z",
     "iopub.status.busy": "2023-11-03T13:03:45.528310Z",
     "iopub.status.idle": "2023-11-03T13:03:47.192807Z",
     "shell.execute_reply": "2023-11-03T13:03:47.191841Z"
    },
    "papermill": {
     "duration": 1.677356,
     "end_time": "2023-11-03T13:03:47.195819",
     "exception": false,
     "start_time": "2023-11-03T13:03:45.518463",
     "status": "completed"
    },
    "tags": []
   },
   "outputs": [],
   "source": [
    "import numpy as np \n",
    "import seaborn as sns\n",
    "import matplotlib.pyplot as plt\n",
    "import pandas as pd"
   ]
  },
  {
   "cell_type": "code",
   "execution_count": 2,
   "id": "65d21de8",
   "metadata": {
    "execution": {
     "iopub.execute_input": "2023-11-03T13:03:47.212419Z",
     "iopub.status.busy": "2023-11-03T13:03:47.212015Z",
     "iopub.status.idle": "2023-11-03T13:03:47.256358Z",
     "shell.execute_reply": "2023-11-03T13:03:47.255043Z"
    },
    "papermill": {
     "duration": 0.055175,
     "end_time": "2023-11-03T13:03:47.258956",
     "exception": false,
     "start_time": "2023-11-03T13:03:47.203781",
     "status": "completed"
    },
    "tags": []
   },
   "outputs": [],
   "source": [
    "train = pd.read_csv('/kaggle/input/d/broaniki/titanic/kaggle-titanic-master/input/train.csv')\n",
    "test = pd.read_csv('/kaggle/input/d/broaniki/titanic/kaggle-titanic-master/input/test.csv')\n",
    "gender_s = pd.read_csv('/kaggle/input/d/broaniki/titanic/kaggle-titanic-master/input/gender_submission.csv')"
   ]
  },
  {
   "cell_type": "code",
   "execution_count": 3,
   "id": "1a78cce2",
   "metadata": {
    "execution": {
     "iopub.execute_input": "2023-11-03T13:03:47.276817Z",
     "iopub.status.busy": "2023-11-03T13:03:47.275400Z",
     "iopub.status.idle": "2023-11-03T13:03:47.314892Z",
     "shell.execute_reply": "2023-11-03T13:03:47.313902Z"
    },
    "papermill": {
     "duration": 0.050086,
     "end_time": "2023-11-03T13:03:47.316896",
     "exception": false,
     "start_time": "2023-11-03T13:03:47.266810",
     "status": "completed"
    },
    "tags": []
   },
   "outputs": [
    {
     "data": {
      "text/html": [
       "<div>\n",
       "<style scoped>\n",
       "    .dataframe tbody tr th:only-of-type {\n",
       "        vertical-align: middle;\n",
       "    }\n",
       "\n",
       "    .dataframe tbody tr th {\n",
       "        vertical-align: top;\n",
       "    }\n",
       "\n",
       "    .dataframe thead th {\n",
       "        text-align: right;\n",
       "    }\n",
       "</style>\n",
       "<table border=\"1\" class=\"dataframe\">\n",
       "  <thead>\n",
       "    <tr style=\"text-align: right;\">\n",
       "      <th></th>\n",
       "      <th>PassengerId</th>\n",
       "      <th>Survived</th>\n",
       "      <th>Pclass</th>\n",
       "      <th>Name</th>\n",
       "      <th>Sex</th>\n",
       "      <th>Age</th>\n",
       "      <th>SibSp</th>\n",
       "      <th>Parch</th>\n",
       "      <th>Ticket</th>\n",
       "      <th>Fare</th>\n",
       "      <th>Cabin</th>\n",
       "      <th>Embarked</th>\n",
       "    </tr>\n",
       "  </thead>\n",
       "  <tbody>\n",
       "    <tr>\n",
       "      <th>0</th>\n",
       "      <td>1</td>\n",
       "      <td>0.0</td>\n",
       "      <td>3</td>\n",
       "      <td>Braund, Mr. Owen Harris</td>\n",
       "      <td>male</td>\n",
       "      <td>22.0</td>\n",
       "      <td>1</td>\n",
       "      <td>0</td>\n",
       "      <td>A/5 21171</td>\n",
       "      <td>7.2500</td>\n",
       "      <td>NaN</td>\n",
       "      <td>S</td>\n",
       "    </tr>\n",
       "    <tr>\n",
       "      <th>1</th>\n",
       "      <td>2</td>\n",
       "      <td>1.0</td>\n",
       "      <td>1</td>\n",
       "      <td>Cumings, Mrs. John Bradley (Florence Briggs Th...</td>\n",
       "      <td>female</td>\n",
       "      <td>38.0</td>\n",
       "      <td>1</td>\n",
       "      <td>0</td>\n",
       "      <td>PC 17599</td>\n",
       "      <td>71.2833</td>\n",
       "      <td>C85</td>\n",
       "      <td>C</td>\n",
       "    </tr>\n",
       "    <tr>\n",
       "      <th>2</th>\n",
       "      <td>3</td>\n",
       "      <td>1.0</td>\n",
       "      <td>3</td>\n",
       "      <td>Heikkinen, Miss. Laina</td>\n",
       "      <td>female</td>\n",
       "      <td>26.0</td>\n",
       "      <td>0</td>\n",
       "      <td>0</td>\n",
       "      <td>STON/O2. 3101282</td>\n",
       "      <td>7.9250</td>\n",
       "      <td>NaN</td>\n",
       "      <td>S</td>\n",
       "    </tr>\n",
       "    <tr>\n",
       "      <th>3</th>\n",
       "      <td>4</td>\n",
       "      <td>1.0</td>\n",
       "      <td>1</td>\n",
       "      <td>Futrelle, Mrs. Jacques Heath (Lily May Peel)</td>\n",
       "      <td>female</td>\n",
       "      <td>35.0</td>\n",
       "      <td>1</td>\n",
       "      <td>0</td>\n",
       "      <td>113803</td>\n",
       "      <td>53.1000</td>\n",
       "      <td>C123</td>\n",
       "      <td>S</td>\n",
       "    </tr>\n",
       "    <tr>\n",
       "      <th>4</th>\n",
       "      <td>5</td>\n",
       "      <td>0.0</td>\n",
       "      <td>3</td>\n",
       "      <td>Allen, Mr. William Henry</td>\n",
       "      <td>male</td>\n",
       "      <td>35.0</td>\n",
       "      <td>0</td>\n",
       "      <td>0</td>\n",
       "      <td>373450</td>\n",
       "      <td>8.0500</td>\n",
       "      <td>NaN</td>\n",
       "      <td>S</td>\n",
       "    </tr>\n",
       "  </tbody>\n",
       "</table>\n",
       "</div>"
      ],
      "text/plain": [
       "   PassengerId  Survived  Pclass  \\\n",
       "0            1       0.0       3   \n",
       "1            2       1.0       1   \n",
       "2            3       1.0       3   \n",
       "3            4       1.0       1   \n",
       "4            5       0.0       3   \n",
       "\n",
       "                                                Name     Sex   Age  SibSp  \\\n",
       "0                            Braund, Mr. Owen Harris    male  22.0      1   \n",
       "1  Cumings, Mrs. John Bradley (Florence Briggs Th...  female  38.0      1   \n",
       "2                             Heikkinen, Miss. Laina  female  26.0      0   \n",
       "3       Futrelle, Mrs. Jacques Heath (Lily May Peel)  female  35.0      1   \n",
       "4                           Allen, Mr. William Henry    male  35.0      0   \n",
       "\n",
       "   Parch            Ticket     Fare Cabin Embarked  \n",
       "0      0         A/5 21171   7.2500   NaN        S  \n",
       "1      0          PC 17599  71.2833   C85        C  \n",
       "2      0  STON/O2. 3101282   7.9250   NaN        S  \n",
       "3      0            113803  53.1000  C123        S  \n",
       "4      0            373450   8.0500   NaN        S  "
      ]
     },
     "execution_count": 3,
     "metadata": {},
     "output_type": "execute_result"
    }
   ],
   "source": [
    "data = pd.concat([train,test])\n",
    "data.head()"
   ]
  },
  {
   "cell_type": "markdown",
   "id": "b6b25b5e",
   "metadata": {
    "papermill": {
     "duration": 0.00726,
     "end_time": "2023-11-03T13:03:47.331940",
     "exception": false,
     "start_time": "2023-11-03T13:03:47.324680",
     "status": "completed"
    },
    "tags": []
   },
   "source": [
    "# EDA - Exploratory Data Analysis"
   ]
  },
  {
   "cell_type": "markdown",
   "id": "10b4c9fc",
   "metadata": {
    "execution": {
     "iopub.execute_input": "2023-10-21T05:09:18.642166Z",
     "iopub.status.busy": "2023-10-21T05:09:18.641752Z",
     "iopub.status.idle": "2023-10-21T05:09:18.65261Z",
     "shell.execute_reply": "2023-10-21T05:09:18.650835Z",
     "shell.execute_reply.started": "2023-10-21T05:09:18.642134Z"
    },
    "papermill": {
     "duration": 0.007033,
     "end_time": "2023-11-03T13:03:47.346362",
     "exception": false,
     "start_time": "2023-11-03T13:03:47.339329",
     "status": "completed"
    },
    "tags": []
   },
   "source": [
    "### About the columns\n",
    "\n",
    " + PassengerId : Passenger number \n",
    " + Survived : 0 = Dead 1 = Alive \n",
    " + Pclass : 1 = First class 2 = Second class 3 = Third class \n",
    " + Name : Name of passenger \n",
    " + Sex : Gender \n",
    " + Age : Age of passenger \n",
    " + SibSp : Number of Siblings/Spouses Aboard. parch. Number of Parents/Children Aboard \n",
    " + Parch : Number of Parents/Children Aboard. ticket. Ticket Number\n",
    " + Ticket : Ticket number \n",
    " + Fare :  Passenger fare \n",
    " + Cabin : Cabin number \n",
    " + Embarked : Embarked implies where the traveler mounted from. There are three possible values for Embark — Southampton, Cherbourg, and Queenstown. More than 70% of the people boarded from Southampton. Just under 20% boarded from Cherbourg and the rest boarded from Queenstown."
   ]
  },
  {
   "cell_type": "code",
   "execution_count": 4,
   "id": "d02ba3ca",
   "metadata": {
    "execution": {
     "iopub.execute_input": "2023-11-03T13:03:47.365588Z",
     "iopub.status.busy": "2023-11-03T13:03:47.364944Z",
     "iopub.status.idle": "2023-11-03T13:03:47.370810Z",
     "shell.execute_reply": "2023-11-03T13:03:47.370077Z"
    },
    "papermill": {
     "duration": 0.016898,
     "end_time": "2023-11-03T13:03:47.372489",
     "exception": false,
     "start_time": "2023-11-03T13:03:47.355591",
     "status": "completed"
    },
    "tags": []
   },
   "outputs": [
    {
     "data": {
      "text/plain": [
       "Index(['PassengerId', 'Survived', 'Pclass', 'Name', 'Sex', 'Age', 'SibSp',\n",
       "       'Parch', 'Ticket', 'Fare', 'Cabin', 'Embarked'],\n",
       "      dtype='object')"
      ]
     },
     "execution_count": 4,
     "metadata": {},
     "output_type": "execute_result"
    }
   ],
   "source": [
    "data.columns"
   ]
  },
  {
   "cell_type": "markdown",
   "id": "2c461b12",
   "metadata": {
    "papermill": {
     "duration": 0.007282,
     "end_time": "2023-11-03T13:03:47.387446",
     "exception": false,
     "start_time": "2023-11-03T13:03:47.380164",
     "status": "completed"
    },
    "tags": []
   },
   "source": [
    "## Data type of columns\n",
    "- PassengerId - categorical(nominal) \n",
    "- Survived - categorical(nominal) \n",
    "- Pclass - categorical(ordinal) \n",
    "- Sex - categorical(nominal) \n",
    "- Age - numeric(continuous)\n",
    "- SibSp - numeric(continuous)\n",
    "- Parch - numeric(continuous)\n",
    "- Ticket - categorical(nominal) \n",
    "- Fare - numeric(discrete)\n",
    "- Cabin - categorical(ordinal)\n",
    "- Embarked - categorical(ordinal)"
   ]
  },
  {
   "cell_type": "code",
   "execution_count": 5,
   "id": "4cdd145a",
   "metadata": {
    "execution": {
     "iopub.execute_input": "2023-11-03T13:03:47.404346Z",
     "iopub.status.busy": "2023-11-03T13:03:47.403847Z",
     "iopub.status.idle": "2023-11-03T13:03:47.427360Z",
     "shell.execute_reply": "2023-11-03T13:03:47.426482Z"
    },
    "papermill": {
     "duration": 0.034692,
     "end_time": "2023-11-03T13:03:47.429654",
     "exception": false,
     "start_time": "2023-11-03T13:03:47.394962",
     "status": "completed"
    },
    "tags": []
   },
   "outputs": [
    {
     "name": "stdout",
     "output_type": "stream",
     "text": [
      "<class 'pandas.core.frame.DataFrame'>\n",
      "Index: 1309 entries, 0 to 417\n",
      "Data columns (total 12 columns):\n",
      " #   Column       Non-Null Count  Dtype  \n",
      "---  ------       --------------  -----  \n",
      " 0   PassengerId  1309 non-null   int64  \n",
      " 1   Survived     891 non-null    float64\n",
      " 2   Pclass       1309 non-null   int64  \n",
      " 3   Name         1309 non-null   object \n",
      " 4   Sex          1309 non-null   object \n",
      " 5   Age          1046 non-null   float64\n",
      " 6   SibSp        1309 non-null   int64  \n",
      " 7   Parch        1309 non-null   int64  \n",
      " 8   Ticket       1309 non-null   object \n",
      " 9   Fare         1308 non-null   float64\n",
      " 10  Cabin        295 non-null    object \n",
      " 11  Embarked     1307 non-null   object \n",
      "dtypes: float64(3), int64(4), object(5)\n",
      "memory usage: 132.9+ KB\n"
     ]
    }
   ],
   "source": [
    "data.info()"
   ]
  },
  {
   "cell_type": "code",
   "execution_count": 6,
   "id": "ac9fd032",
   "metadata": {
    "execution": {
     "iopub.execute_input": "2023-11-03T13:03:47.446860Z",
     "iopub.status.busy": "2023-11-03T13:03:47.446340Z",
     "iopub.status.idle": "2023-11-03T13:03:47.454463Z",
     "shell.execute_reply": "2023-11-03T13:03:47.453616Z"
    },
    "papermill": {
     "duration": 0.018781,
     "end_time": "2023-11-03T13:03:47.456323",
     "exception": false,
     "start_time": "2023-11-03T13:03:47.437542",
     "status": "completed"
    },
    "tags": []
   },
   "outputs": [
    {
     "data": {
      "text/plain": [
       "PassengerId       0\n",
       "Survived        418\n",
       "Pclass            0\n",
       "Name              0\n",
       "Sex               0\n",
       "Age             263\n",
       "SibSp             0\n",
       "Parch             0\n",
       "Ticket            0\n",
       "Fare              1\n",
       "Cabin          1014\n",
       "Embarked          2\n",
       "dtype: int64"
      ]
     },
     "execution_count": 6,
     "metadata": {},
     "output_type": "execute_result"
    }
   ],
   "source": [
    "data.isna().sum()"
   ]
  },
  {
   "cell_type": "code",
   "execution_count": 7,
   "id": "f91bb312",
   "metadata": {
    "execution": {
     "iopub.execute_input": "2023-11-03T13:03:47.473105Z",
     "iopub.status.busy": "2023-11-03T13:03:47.472793Z",
     "iopub.status.idle": "2023-11-03T13:03:47.485577Z",
     "shell.execute_reply": "2023-11-03T13:03:47.484520Z"
    },
    "papermill": {
     "duration": 0.02346,
     "end_time": "2023-11-03T13:03:47.487467",
     "exception": false,
     "start_time": "2023-11-03T13:03:47.464007",
     "status": "completed"
    },
    "tags": []
   },
   "outputs": [
    {
     "data": {
      "text/html": [
       "<div>\n",
       "<style scoped>\n",
       "    .dataframe tbody tr th:only-of-type {\n",
       "        vertical-align: middle;\n",
       "    }\n",
       "\n",
       "    .dataframe tbody tr th {\n",
       "        vertical-align: top;\n",
       "    }\n",
       "\n",
       "    .dataframe thead th {\n",
       "        text-align: right;\n",
       "    }\n",
       "</style>\n",
       "<table border=\"1\" class=\"dataframe\">\n",
       "  <thead>\n",
       "    <tr style=\"text-align: right;\">\n",
       "      <th></th>\n",
       "      <th>total_missing</th>\n",
       "      <th>perc_missing</th>\n",
       "    </tr>\n",
       "  </thead>\n",
       "  <tbody>\n",
       "    <tr>\n",
       "      <th>PassengerId</th>\n",
       "      <td>0</td>\n",
       "      <td>0.000000</td>\n",
       "    </tr>\n",
       "    <tr>\n",
       "      <th>Survived</th>\n",
       "      <td>418</td>\n",
       "      <td>0.319328</td>\n",
       "    </tr>\n",
       "    <tr>\n",
       "      <th>Pclass</th>\n",
       "      <td>0</td>\n",
       "      <td>0.000000</td>\n",
       "    </tr>\n",
       "    <tr>\n",
       "      <th>Name</th>\n",
       "      <td>0</td>\n",
       "      <td>0.000000</td>\n",
       "    </tr>\n",
       "    <tr>\n",
       "      <th>Sex</th>\n",
       "      <td>0</td>\n",
       "      <td>0.000000</td>\n",
       "    </tr>\n",
       "    <tr>\n",
       "      <th>Age</th>\n",
       "      <td>263</td>\n",
       "      <td>0.200917</td>\n",
       "    </tr>\n",
       "    <tr>\n",
       "      <th>SibSp</th>\n",
       "      <td>0</td>\n",
       "      <td>0.000000</td>\n",
       "    </tr>\n",
       "    <tr>\n",
       "      <th>Parch</th>\n",
       "      <td>0</td>\n",
       "      <td>0.000000</td>\n",
       "    </tr>\n",
       "    <tr>\n",
       "      <th>Ticket</th>\n",
       "      <td>0</td>\n",
       "      <td>0.000000</td>\n",
       "    </tr>\n",
       "    <tr>\n",
       "      <th>Fare</th>\n",
       "      <td>1</td>\n",
       "      <td>0.000764</td>\n",
       "    </tr>\n",
       "    <tr>\n",
       "      <th>Cabin</th>\n",
       "      <td>1014</td>\n",
       "      <td>0.774637</td>\n",
       "    </tr>\n",
       "    <tr>\n",
       "      <th>Embarked</th>\n",
       "      <td>2</td>\n",
       "      <td>0.001528</td>\n",
       "    </tr>\n",
       "  </tbody>\n",
       "</table>\n",
       "</div>"
      ],
      "text/plain": [
       "             total_missing  perc_missing\n",
       "PassengerId              0      0.000000\n",
       "Survived               418      0.319328\n",
       "Pclass                   0      0.000000\n",
       "Name                     0      0.000000\n",
       "Sex                      0      0.000000\n",
       "Age                    263      0.200917\n",
       "SibSp                    0      0.000000\n",
       "Parch                    0      0.000000\n",
       "Ticket                   0      0.000000\n",
       "Fare                     1      0.000764\n",
       "Cabin                 1014      0.774637\n",
       "Embarked                 2      0.001528"
      ]
     },
     "execution_count": 7,
     "metadata": {},
     "output_type": "execute_result"
    }
   ],
   "source": [
    "# None values on percentage\n",
    "missing_data = pd.DataFrame({'total_missing':data.isna().sum(),'perc_missing' : data.isna().sum()/data.shape[0]})\n",
    "missing_data"
   ]
  },
  {
   "cell_type": "code",
   "execution_count": 8,
   "id": "e831f225",
   "metadata": {
    "execution": {
     "iopub.execute_input": "2023-11-03T13:03:47.505395Z",
     "iopub.status.busy": "2023-11-03T13:03:47.505078Z",
     "iopub.status.idle": "2023-11-03T13:03:47.534535Z",
     "shell.execute_reply": "2023-11-03T13:03:47.533527Z"
    },
    "papermill": {
     "duration": 0.040684,
     "end_time": "2023-11-03T13:03:47.536463",
     "exception": false,
     "start_time": "2023-11-03T13:03:47.495779",
     "status": "completed"
    },
    "tags": []
   },
   "outputs": [
    {
     "data": {
      "text/html": [
       "<div>\n",
       "<style scoped>\n",
       "    .dataframe tbody tr th:only-of-type {\n",
       "        vertical-align: middle;\n",
       "    }\n",
       "\n",
       "    .dataframe tbody tr th {\n",
       "        vertical-align: top;\n",
       "    }\n",
       "\n",
       "    .dataframe thead th {\n",
       "        text-align: right;\n",
       "    }\n",
       "</style>\n",
       "<table border=\"1\" class=\"dataframe\">\n",
       "  <thead>\n",
       "    <tr style=\"text-align: right;\">\n",
       "      <th></th>\n",
       "      <th>PassengerId</th>\n",
       "      <th>Survived</th>\n",
       "      <th>Pclass</th>\n",
       "      <th>Age</th>\n",
       "      <th>SibSp</th>\n",
       "      <th>Parch</th>\n",
       "      <th>Fare</th>\n",
       "    </tr>\n",
       "  </thead>\n",
       "  <tbody>\n",
       "    <tr>\n",
       "      <th>count</th>\n",
       "      <td>1309.000000</td>\n",
       "      <td>891.000000</td>\n",
       "      <td>1309.000000</td>\n",
       "      <td>1046.000000</td>\n",
       "      <td>1309.000000</td>\n",
       "      <td>1309.000000</td>\n",
       "      <td>1308.000000</td>\n",
       "    </tr>\n",
       "    <tr>\n",
       "      <th>mean</th>\n",
       "      <td>655.000000</td>\n",
       "      <td>0.383838</td>\n",
       "      <td>2.294882</td>\n",
       "      <td>29.881138</td>\n",
       "      <td>0.498854</td>\n",
       "      <td>0.385027</td>\n",
       "      <td>33.295479</td>\n",
       "    </tr>\n",
       "    <tr>\n",
       "      <th>std</th>\n",
       "      <td>378.020061</td>\n",
       "      <td>0.486592</td>\n",
       "      <td>0.837836</td>\n",
       "      <td>14.413493</td>\n",
       "      <td>1.041658</td>\n",
       "      <td>0.865560</td>\n",
       "      <td>51.758668</td>\n",
       "    </tr>\n",
       "    <tr>\n",
       "      <th>min</th>\n",
       "      <td>1.000000</td>\n",
       "      <td>0.000000</td>\n",
       "      <td>1.000000</td>\n",
       "      <td>0.170000</td>\n",
       "      <td>0.000000</td>\n",
       "      <td>0.000000</td>\n",
       "      <td>0.000000</td>\n",
       "    </tr>\n",
       "    <tr>\n",
       "      <th>25%</th>\n",
       "      <td>328.000000</td>\n",
       "      <td>0.000000</td>\n",
       "      <td>2.000000</td>\n",
       "      <td>21.000000</td>\n",
       "      <td>0.000000</td>\n",
       "      <td>0.000000</td>\n",
       "      <td>7.895800</td>\n",
       "    </tr>\n",
       "    <tr>\n",
       "      <th>50%</th>\n",
       "      <td>655.000000</td>\n",
       "      <td>0.000000</td>\n",
       "      <td>3.000000</td>\n",
       "      <td>28.000000</td>\n",
       "      <td>0.000000</td>\n",
       "      <td>0.000000</td>\n",
       "      <td>14.454200</td>\n",
       "    </tr>\n",
       "    <tr>\n",
       "      <th>75%</th>\n",
       "      <td>982.000000</td>\n",
       "      <td>1.000000</td>\n",
       "      <td>3.000000</td>\n",
       "      <td>39.000000</td>\n",
       "      <td>1.000000</td>\n",
       "      <td>0.000000</td>\n",
       "      <td>31.275000</td>\n",
       "    </tr>\n",
       "    <tr>\n",
       "      <th>max</th>\n",
       "      <td>1309.000000</td>\n",
       "      <td>1.000000</td>\n",
       "      <td>3.000000</td>\n",
       "      <td>80.000000</td>\n",
       "      <td>8.000000</td>\n",
       "      <td>9.000000</td>\n",
       "      <td>512.329200</td>\n",
       "    </tr>\n",
       "  </tbody>\n",
       "</table>\n",
       "</div>"
      ],
      "text/plain": [
       "       PassengerId    Survived       Pclass          Age        SibSp  \\\n",
       "count  1309.000000  891.000000  1309.000000  1046.000000  1309.000000   \n",
       "mean    655.000000    0.383838     2.294882    29.881138     0.498854   \n",
       "std     378.020061    0.486592     0.837836    14.413493     1.041658   \n",
       "min       1.000000    0.000000     1.000000     0.170000     0.000000   \n",
       "25%     328.000000    0.000000     2.000000    21.000000     0.000000   \n",
       "50%     655.000000    0.000000     3.000000    28.000000     0.000000   \n",
       "75%     982.000000    1.000000     3.000000    39.000000     1.000000   \n",
       "max    1309.000000    1.000000     3.000000    80.000000     8.000000   \n",
       "\n",
       "             Parch         Fare  \n",
       "count  1309.000000  1308.000000  \n",
       "mean      0.385027    33.295479  \n",
       "std       0.865560    51.758668  \n",
       "min       0.000000     0.000000  \n",
       "25%       0.000000     7.895800  \n",
       "50%       0.000000    14.454200  \n",
       "75%       0.000000    31.275000  \n",
       "max       9.000000   512.329200  "
      ]
     },
     "execution_count": 8,
     "metadata": {},
     "output_type": "execute_result"
    }
   ],
   "source": [
    "# Statistical description of numerical variables\n",
    "data.describe()"
   ]
  },
  {
   "cell_type": "markdown",
   "id": "e5a93566",
   "metadata": {
    "papermill": {
     "duration": 0.007745,
     "end_time": "2023-11-03T13:03:47.552822",
     "exception": false,
     "start_time": "2023-11-03T13:03:47.545077",
     "status": "completed"
    },
    "tags": []
   },
   "source": [
    "## Data Cleaning"
   ]
  },
  {
   "cell_type": "code",
   "execution_count": 9,
   "id": "65f4b547",
   "metadata": {
    "execution": {
     "iopub.execute_input": "2023-11-03T13:03:47.571442Z",
     "iopub.status.busy": "2023-11-03T13:03:47.570068Z",
     "iopub.status.idle": "2023-11-03T13:03:47.581114Z",
     "shell.execute_reply": "2023-11-03T13:03:47.579468Z"
    },
    "papermill": {
     "duration": 0.023155,
     "end_time": "2023-11-03T13:03:47.583837",
     "exception": false,
     "start_time": "2023-11-03T13:03:47.560682",
     "status": "completed"
    },
    "tags": []
   },
   "outputs": [],
   "source": [
    "data = data.dropna(subset = ['Fare','Embarked']).reset_index(drop=True)"
   ]
  },
  {
   "cell_type": "markdown",
   "id": "629ad911",
   "metadata": {
    "papermill": {
     "duration": 0.008513,
     "end_time": "2023-11-03T13:03:47.601856",
     "exception": false,
     "start_time": "2023-11-03T13:03:47.593343",
     "status": "completed"
    },
    "tags": []
   },
   "source": [
    "## Handling missing values & Feature Engineering"
   ]
  },
  {
   "cell_type": "code",
   "execution_count": 10,
   "id": "bc82acd4",
   "metadata": {
    "execution": {
     "iopub.execute_input": "2023-11-03T13:03:47.621208Z",
     "iopub.status.busy": "2023-11-03T13:03:47.620857Z",
     "iopub.status.idle": "2023-11-03T13:03:47.628662Z",
     "shell.execute_reply": "2023-11-03T13:03:47.626827Z"
    },
    "papermill": {
     "duration": 0.020501,
     "end_time": "2023-11-03T13:03:47.631302",
     "exception": false,
     "start_time": "2023-11-03T13:03:47.610801",
     "status": "completed"
    },
    "tags": []
   },
   "outputs": [],
   "source": [
    "data['Age'] = data['Age'].fillna(data['Age'].mean())\n",
    "data['Age'] = data['Age'].astype('int')"
   ]
  },
  {
   "cell_type": "code",
   "execution_count": 11,
   "id": "ddf58bf0",
   "metadata": {
    "execution": {
     "iopub.execute_input": "2023-11-03T13:03:47.649985Z",
     "iopub.status.busy": "2023-11-03T13:03:47.649653Z",
     "iopub.status.idle": "2023-11-03T13:03:47.656971Z",
     "shell.execute_reply": "2023-11-03T13:03:47.655922Z"
    },
    "papermill": {
     "duration": 0.01856,
     "end_time": "2023-11-03T13:03:47.658697",
     "exception": false,
     "start_time": "2023-11-03T13:03:47.640137",
     "status": "completed"
    },
    "tags": []
   },
   "outputs": [
    {
     "data": {
      "text/plain": [
       "array([nan, 'C85', 'C123', 'E46', 'G6', 'C103', 'D56', 'A6',\n",
       "       'C23 C25 C27', 'B78', 'D33', 'B30', 'C52', 'C83', 'F33', 'F G73',\n",
       "       'E31', 'A5', 'D10 D12', 'D26', 'C110', 'B58 B60', 'E101', 'F E69',\n",
       "       'D47', 'B86', 'F2', 'C2', 'E33', 'B19', 'A7', 'C49', 'F4', 'A32',\n",
       "       'B4', 'B80', 'A31', 'D36', 'D15', 'C93', 'C78', 'D35', 'C87',\n",
       "       'B77', 'E67', 'B94', 'C125', 'C99', 'C118', 'D7', 'A19', 'B49',\n",
       "       'D', 'C22 C26', 'C106', 'C65', 'E36', 'C54', 'B57 B59 B63 B66',\n",
       "       'C7', 'E34', 'C32', 'B18', 'C124', 'C91', 'E40', 'T', 'C128',\n",
       "       'D37', 'B35', 'E50', 'C82', 'B96 B98', 'E10', 'E44', 'A34', 'C104',\n",
       "       'C111', 'C92', 'E38', 'D21', 'E12', 'E63', 'A14', 'B37', 'C30',\n",
       "       'D20', 'B79', 'E25', 'D46', 'B73', 'C95', 'B38', 'B39', 'B22',\n",
       "       'C86', 'C70', 'A16', 'C101', 'C68', 'A10', 'E68', 'B41', 'A20',\n",
       "       'D19', 'D50', 'D9', 'A23', 'B50', 'A26', 'D48', 'E58', 'C126',\n",
       "       'B71', 'B51 B53 B55', 'D49', 'B5', 'B20', 'F G63', 'C62 C64',\n",
       "       'E24', 'C90', 'C45', 'E8', 'B101', 'D45', 'C46', 'D30', 'E121',\n",
       "       'D11', 'E77', 'F38', 'B3', 'D6', 'B82 B84', 'D17', 'A36', 'B102',\n",
       "       'B69', 'E49', 'C47', 'D28', 'E17', 'A24', 'C50', 'B42', 'C148',\n",
       "       'B45', 'B36', 'A21', 'D34', 'A9', 'C31', 'B61', 'C53', 'D43',\n",
       "       'C130', 'C132', 'C55 C57', 'C116', 'F', 'A29', 'C6', 'C28', 'C51',\n",
       "       'C97', 'D22', 'B10', 'E45', 'E52', 'A11', 'B11', 'C80', 'C89',\n",
       "       'F E46', 'B26', 'F E57', 'A18', 'E60', 'E39 E41', 'B52 B54 B56',\n",
       "       'C39', 'B24', 'D40', 'D38', 'C105'], dtype=object)"
      ]
     },
     "execution_count": 11,
     "metadata": {},
     "output_type": "execute_result"
    }
   ],
   "source": [
    "data['Cabin'].unique()"
   ]
  },
  {
   "cell_type": "code",
   "execution_count": 12,
   "id": "bf3387d3",
   "metadata": {
    "execution": {
     "iopub.execute_input": "2023-11-03T13:03:47.677410Z",
     "iopub.status.busy": "2023-11-03T13:03:47.677082Z",
     "iopub.status.idle": "2023-11-03T13:03:47.685571Z",
     "shell.execute_reply": "2023-11-03T13:03:47.684750Z"
    },
    "papermill": {
     "duration": 0.020256,
     "end_time": "2023-11-03T13:03:47.687548",
     "exception": false,
     "start_time": "2023-11-03T13:03:47.667292",
     "status": "completed"
    },
    "tags": []
   },
   "outputs": [],
   "source": [
    "data['deck'] = [None]*data.shape[0]\n",
    "\n",
    "decks = data[data['Cabin'].notnull()]['Cabin'].str[0]\n",
    "\n",
    "data.loc.__setitem__((data['Cabin'].notnull().index, ('deck')), decks)"
   ]
  },
  {
   "cell_type": "code",
   "execution_count": 13,
   "id": "94eab595",
   "metadata": {
    "execution": {
     "iopub.execute_input": "2023-11-03T13:03:47.706106Z",
     "iopub.status.busy": "2023-11-03T13:03:47.705781Z",
     "iopub.status.idle": "2023-11-03T13:03:47.715013Z",
     "shell.execute_reply": "2023-11-03T13:03:47.714198Z"
    },
    "papermill": {
     "duration": 0.020097,
     "end_time": "2023-11-03T13:03:47.716604",
     "exception": false,
     "start_time": "2023-11-03T13:03:47.696507",
     "status": "completed"
    },
    "tags": []
   },
   "outputs": [
    {
     "data": {
      "text/plain": [
       "deck\n",
       "G     16.7000\n",
       "T     35.5000\n",
       "F     39.0000\n",
       "A     81.8583\n",
       "D    113.2750\n",
       "E    134.5000\n",
       "C    263.0000\n",
       "B    512.3292\n",
       "Name: Fare, dtype: float64"
      ]
     },
     "execution_count": 13,
     "metadata": {},
     "output_type": "execute_result"
    }
   ],
   "source": [
    "data.groupby('deck')['Fare'].agg('max').sort_values()"
   ]
  },
  {
   "cell_type": "code",
   "execution_count": 14,
   "id": "0a5efe61",
   "metadata": {
    "execution": {
     "iopub.execute_input": "2023-11-03T13:03:47.736130Z",
     "iopub.status.busy": "2023-11-03T13:03:47.735658Z",
     "iopub.status.idle": "2023-11-03T13:03:47.759280Z",
     "shell.execute_reply": "2023-11-03T13:03:47.757817Z"
    },
    "papermill": {
     "duration": 0.035664,
     "end_time": "2023-11-03T13:03:47.761481",
     "exception": false,
     "start_time": "2023-11-03T13:03:47.725817",
     "status": "completed"
    },
    "tags": []
   },
   "outputs": [],
   "source": [
    "deck_categories = ['G', 'T', 'F', 'A', 'D', 'E', 'C', 'B']\n",
    "\n",
    "\n",
    "conditions = [(data[data['deck'] == 'G']['Fare'].max() >= data['Fare']),\n",
    "              (data[data['deck'] == 'G']['Fare'].max() < data['Fare']) & (data[data['deck'] == 'T']['Fare'].max() >= data['Fare']),\n",
    "              (data[data['deck'] == 'T']['Fare'].max() < data['Fare']) & (data[data['deck'] == 'F']['Fare'].max() >= data['Fare']),\n",
    "              (data[data['deck'] == 'F']['Fare'].max() < data['Fare']) & (data[data['deck'] == 'A']['Fare'].max() >= data['Fare']),\n",
    "              (data[data['deck'] == 'A']['Fare'].max() < data['Fare']) & (data[data['deck'] == 'D']['Fare'].max() >= data['Fare']),\n",
    "              (data[data['deck'] == 'D']['Fare'].max() < data['Fare']) & (data[data['deck'] == 'E']['Fare'].max() >= data['Fare']),\n",
    "              (data[data['deck'] == 'E']['Fare'].max() < data['Fare']) & (data[data['deck'] == 'C']['Fare'].max() >= data['Fare']),\n",
    "              (data[data['deck'] == 'C']['Fare'].max() < data['Fare'])]\n",
    "\n",
    "data['deck'] = np.select(conditions,\n",
    "                        deck_categories)"
   ]
  },
  {
   "cell_type": "code",
   "execution_count": 15,
   "id": "9169d9e6",
   "metadata": {
    "execution": {
     "iopub.execute_input": "2023-11-03T13:03:47.781294Z",
     "iopub.status.busy": "2023-11-03T13:03:47.780959Z",
     "iopub.status.idle": "2023-11-03T13:03:47.790262Z",
     "shell.execute_reply": "2023-11-03T13:03:47.788948Z"
    },
    "papermill": {
     "duration": 0.021136,
     "end_time": "2023-11-03T13:03:47.792065",
     "exception": false,
     "start_time": "2023-11-03T13:03:47.770929",
     "status": "completed"
    },
    "tags": []
   },
   "outputs": [
    {
     "data": {
      "text/plain": [
       "PassengerId       0\n",
       "Survived        417\n",
       "Pclass            0\n",
       "Name              0\n",
       "Sex               0\n",
       "Age               0\n",
       "SibSp             0\n",
       "Parch             0\n",
       "Ticket            0\n",
       "Fare              0\n",
       "Cabin          1013\n",
       "Embarked          0\n",
       "deck              0\n",
       "dtype: int64"
      ]
     },
     "execution_count": 15,
     "metadata": {},
     "output_type": "execute_result"
    }
   ],
   "source": [
    "data.isna().sum()"
   ]
  },
  {
   "cell_type": "markdown",
   "id": "0713e494",
   "metadata": {
    "papermill": {
     "duration": 0.007985,
     "end_time": "2023-11-03T13:03:47.808773",
     "exception": false,
     "start_time": "2023-11-03T13:03:47.800788",
     "status": "completed"
    },
    "tags": []
   },
   "source": [
    "# Data Visualization"
   ]
  },
  {
   "cell_type": "markdown",
   "id": "87ddc5db",
   "metadata": {
    "papermill": {
     "duration": 0.007754,
     "end_time": "2023-11-03T13:03:47.825082",
     "exception": false,
     "start_time": "2023-11-03T13:03:47.817328",
     "status": "completed"
    },
    "tags": []
   },
   "source": [
    "### What is the percentage of Survived?"
   ]
  },
  {
   "cell_type": "code",
   "execution_count": 16,
   "id": "c6d97ead",
   "metadata": {
    "execution": {
     "iopub.execute_input": "2023-11-03T13:03:47.843144Z",
     "iopub.status.busy": "2023-11-03T13:03:47.842810Z",
     "iopub.status.idle": "2023-11-03T13:03:47.849800Z",
     "shell.execute_reply": "2023-11-03T13:03:47.848478Z"
    },
    "papermill": {
     "duration": 0.019378,
     "end_time": "2023-11-03T13:03:47.852543",
     "exception": false,
     "start_time": "2023-11-03T13:03:47.833165",
     "status": "completed"
    },
    "tags": []
   },
   "outputs": [],
   "source": [
    "for_vis = data.copy()\n",
    "for_vis['Survived'] = for_vis['Survived'].fillna('Unknown')"
   ]
  },
  {
   "cell_type": "code",
   "execution_count": 17,
   "id": "b355c3c8",
   "metadata": {
    "execution": {
     "iopub.execute_input": "2023-11-03T13:03:47.872990Z",
     "iopub.status.busy": "2023-11-03T13:03:47.872277Z",
     "iopub.status.idle": "2023-11-03T13:03:48.165062Z",
     "shell.execute_reply": "2023-11-03T13:03:48.163458Z"
    },
    "papermill": {
     "duration": 0.305994,
     "end_time": "2023-11-03T13:03:48.168166",
     "exception": false,
     "start_time": "2023-11-03T13:03:47.862172",
     "status": "completed"
    },
    "tags": []
   },
   "outputs": [
    {
     "data": {
      "image/png": "[encoded data removed]",
      "text/plain": [
       "<Figure size 1200x600 with 2 Axes>"
      ]
     },
     "metadata": {},
     "output_type": "display_data"
    }
   ],
   "source": [
    "f,ax=plt.subplots(1,2,figsize=(12,6))\n",
    "explode = (0, 0.1, 0)  \n",
    "\n",
    "ax[0].pie(for_vis['Survived'].value_counts(),labels=[0,1,'Unknown'], explode=explode, autopct='%1.1f%%',\n",
    "       shadow=True, startangle=80)\n",
    "\n",
    "ax[0].set_title('Survived')\n",
    "\n",
    "sns.countplot(for_vis, x = 'Survived',ax=ax[1])\n",
    "\n",
    "plt.show()"
   ]
  },
  {
   "cell_type": "markdown",
   "id": "b58418b1",
   "metadata": {
    "papermill": {
     "duration": 0.009624,
     "end_time": "2023-11-03T13:03:48.272177",
     "exception": false,
     "start_time": "2023-11-03T13:03:48.262553",
     "status": "completed"
    },
    "tags": []
   },
   "source": [
    "### Comparing the number of Survived people by gender to the total number of people"
   ]
  },
  {
   "cell_type": "code",
   "execution_count": 18,
   "id": "062f3ff8",
   "metadata": {
    "execution": {
     "iopub.execute_input": "2023-11-03T13:03:48.294352Z",
     "iopub.status.busy": "2023-11-03T13:03:48.293599Z",
     "iopub.status.idle": "2023-11-03T13:03:48.482876Z",
     "shell.execute_reply": "2023-11-03T13:03:48.481960Z"
    },
    "papermill": {
     "duration": 0.203183,
     "end_time": "2023-11-03T13:03:48.485132",
     "exception": false,
     "start_time": "2023-11-03T13:03:48.281949",
     "status": "completed"
    },
    "tags": []
   },
   "outputs": [
    {
     "data": {
      "image/png": "[encoded data removed]",
      "text/plain": [
       "<Figure size 640x480 with 1 Axes>"
      ]
     },
     "metadata": {},
     "output_type": "display_data"
    }
   ],
   "source": [
    "df_plot = data.groupby(['Sex', 'Survived']).size().reset_index().pivot(columns='Sex', index='Survived', values=0)\n",
    "\n",
    "df_plot.plot(kind='bar',stacked=True)\n",
    "plt.show()"
   ]
  },
  {
   "cell_type": "markdown",
   "id": "ee60e0b4",
   "metadata": {
    "papermill": {
     "duration": 0.009174,
     "end_time": "2023-11-03T13:03:48.504392",
     "exception": false,
     "start_time": "2023-11-03T13:03:48.495218",
     "status": "completed"
    },
    "tags": []
   },
   "source": [
    "### Does the fare depend on death?"
   ]
  },
  {
   "cell_type": "code",
   "execution_count": 19,
   "id": "24015149",
   "metadata": {
    "execution": {
     "iopub.execute_input": "2023-11-03T13:03:48.525347Z",
     "iopub.status.busy": "2023-11-03T13:03:48.524662Z",
     "iopub.status.idle": "2023-11-03T13:03:48.737614Z",
     "shell.execute_reply": "2023-11-03T13:03:48.735727Z"
    },
    "papermill": {
     "duration": 0.226746,
     "end_time": "2023-11-03T13:03:48.740606",
     "exception": false,
     "start_time": "2023-11-03T13:03:48.513860",
     "status": "completed"
    },
    "tags": []
   },
   "outputs": [
    {
     "data": {
      "image/png": "[encoded data removed]",
      "text/plain": [
       "<Figure size 640x480 with 1 Axes>"
      ]
     },
     "metadata": {},
     "output_type": "display_data"
    }
   ],
   "source": [
    "sns.violinplot(data=data, x=\"Survived\", y=\"Fare\", hue=\"Sex\", split=True, inner=\"quart\")\n",
    "plt.show()"
   ]
  },
  {
   "cell_type": "code",
   "execution_count": 20,
   "id": "d663aa08",
   "metadata": {
    "execution": {
     "iopub.execute_input": "2023-11-03T13:03:48.762880Z",
     "iopub.status.busy": "2023-11-03T13:03:48.762468Z",
     "iopub.status.idle": "2023-11-03T13:03:48.778704Z",
     "shell.execute_reply": "2023-11-03T13:03:48.777393Z"
    },
    "papermill": {
     "duration": 0.029435,
     "end_time": "2023-11-03T13:03:48.780559",
     "exception": false,
     "start_time": "2023-11-03T13:03:48.751124",
     "status": "completed"
    },
    "tags": []
   },
   "outputs": [
    {
     "data": {
      "text/plain": [
       "Sex     Survived\n",
       "female  1.0         11\n",
       "male    0.0          6\n",
       "Name: count, dtype: int64"
      ]
     },
     "execution_count": 20,
     "metadata": {},
     "output_type": "execute_result"
    }
   ],
   "source": [
    "# count for survived amount by sex and fare\n",
    "data[(200<=data['Fare'])&(300>data['Fare'])].groupby(['Sex'])['Survived'].value_counts()"
   ]
  },
  {
   "cell_type": "code",
   "execution_count": 21,
   "id": "9d783350",
   "metadata": {
    "execution": {
     "iopub.execute_input": "2023-11-03T13:03:48.802875Z",
     "iopub.status.busy": "2023-11-03T13:03:48.802293Z",
     "iopub.status.idle": "2023-11-03T13:03:48.817426Z",
     "shell.execute_reply": "2023-11-03T13:03:48.816407Z"
    },
    "papermill": {
     "duration": 0.028585,
     "end_time": "2023-11-03T13:03:48.819576",
     "exception": false,
     "start_time": "2023-11-03T13:03:48.790991",
     "status": "completed"
    },
    "tags": []
   },
   "outputs": [
    {
     "data": {
      "text/html": [
       "<div>\n",
       "<style scoped>\n",
       "    .dataframe tbody tr th:only-of-type {\n",
       "        vertical-align: middle;\n",
       "    }\n",
       "\n",
       "    .dataframe tbody tr th {\n",
       "        vertical-align: top;\n",
       "    }\n",
       "\n",
       "    .dataframe thead th {\n",
       "        text-align: right;\n",
       "    }\n",
       "</style>\n",
       "<table border=\"1\" class=\"dataframe\">\n",
       "  <thead>\n",
       "    <tr style=\"text-align: right;\">\n",
       "      <th></th>\n",
       "      <th>death_amount</th>\n",
       "      <th>survivor_amount</th>\n",
       "      <th>total</th>\n",
       "      <th>death_pct</th>\n",
       "      <th>survivor_pct</th>\n",
       "    </tr>\n",
       "    <tr>\n",
       "      <th>fare_interval</th>\n",
       "      <th></th>\n",
       "      <th></th>\n",
       "      <th></th>\n",
       "      <th></th>\n",
       "      <th></th>\n",
       "    </tr>\n",
       "  </thead>\n",
       "  <tbody>\n",
       "    <tr>\n",
       "      <th>&lt;100</th>\n",
       "      <td>301</td>\n",
       "      <td>535</td>\n",
       "      <td>836</td>\n",
       "      <td>36.0</td>\n",
       "      <td>64.0</td>\n",
       "    </tr>\n",
       "    <tr>\n",
       "      <th>100-200</th>\n",
       "      <td>25</td>\n",
       "      <td>8</td>\n",
       "      <td>33</td>\n",
       "      <td>75.8</td>\n",
       "      <td>24.2</td>\n",
       "    </tr>\n",
       "    <tr>\n",
       "      <th>200-300</th>\n",
       "      <td>11</td>\n",
       "      <td>6</td>\n",
       "      <td>17</td>\n",
       "      <td>64.7</td>\n",
       "      <td>35.3</td>\n",
       "    </tr>\n",
       "    <tr>\n",
       "      <th>300&lt;</th>\n",
       "      <td>3</td>\n",
       "      <td>0</td>\n",
       "      <td>3</td>\n",
       "      <td>100.0</td>\n",
       "      <td>0.0</td>\n",
       "    </tr>\n",
       "  </tbody>\n",
       "</table>\n",
       "</div>"
      ],
      "text/plain": [
       "               death_amount  survivor_amount  total  death_pct  survivor_pct\n",
       "fare_interval                                                               \n",
       "<100                    301              535    836       36.0          64.0\n",
       "100-200                  25                8     33       75.8          24.2\n",
       "200-300                  11                6     17       64.7          35.3\n",
       "300<                      3                0      3      100.0           0.0"
      ]
     },
     "execution_count": 21,
     "metadata": {},
     "output_type": "execute_result"
    }
   ],
   "source": [
    "sur_1 = np.array([301,25,11,3])\n",
    "sur_0 = np.array([535,8,6,0])\n",
    "total = np.array([836,33,17,3])\n",
    "df = pd.DataFrame({'fare_interval' : ['<100','100-200','200-300','300<'],\n",
    "                  'death_amount' : sur_1,\n",
    "                  'survivor_amount' : sur_0,\n",
    "                   'total' : total,\n",
    "                  'death_pct' : 100*np.round(sur_1/total,3),\n",
    "                  'survivor_pct' : 100*np.round(sur_0/total,3)}\n",
    ")\n",
    "df = df.set_index('fare_interval')\n",
    "df"
   ]
  },
  {
   "cell_type": "markdown",
   "id": "73247ee0",
   "metadata": {
    "papermill": {
     "duration": 0.009718,
     "end_time": "2023-11-03T13:03:48.839766",
     "exception": false,
     "start_time": "2023-11-03T13:03:48.830048",
     "status": "completed"
    },
    "tags": []
   },
   "source": [
    "### Survived or not by age and sex"
   ]
  },
  {
   "cell_type": "code",
   "execution_count": 22,
   "id": "1ade081f",
   "metadata": {
    "execution": {
     "iopub.execute_input": "2023-11-03T13:03:48.861258Z",
     "iopub.status.busy": "2023-11-03T13:03:48.860912Z",
     "iopub.status.idle": "2023-11-03T13:03:49.716784Z",
     "shell.execute_reply": "2023-11-03T13:03:49.715151Z"
    },
    "papermill": {
     "duration": 0.870634,
     "end_time": "2023-11-03T13:03:49.720088",
     "exception": false,
     "start_time": "2023-11-03T13:03:48.849454",
     "status": "completed"
    },
    "tags": []
   },
   "outputs": [
    {
     "data": {
      "image/png": "[encoded data removed]",
      "text/plain": [
       "<Figure size 1600x800 with 4 Axes>"
      ]
     },
     "metadata": {},
     "output_type": "display_data"
    }
   ],
   "source": [
    "f,ax=plt.subplots(2,2,figsize=(16,8))\n",
    "\n",
    "data[(data['Survived']==0)&(data['Sex'] == 'male')]['Age'].hist(ax=ax[0][0],bins=20,color='red')\n",
    "ax[0][0].set_title('Survived= 0 and Sex= male')\n",
    "x1=list(range(0,85,5))\n",
    "ax[0][0].set_xticks(x1)\n",
    "\n",
    "data[(data['Survived']==1)&(data['Sex'] == 'male')]['Age'].hist(ax=ax[0][1],color='blue',bins=20)\n",
    "ax[0][1].set_title('Survived= 1 and Sex= male')\n",
    "ax[0][1].set_xticks(x1)\n",
    "\n",
    "data[(data['Survived']==0)&(data['Sex'] == 'female')]['Age'].hist(ax=ax[1][0],bins=20,color='red')\n",
    "ax[1][0].set_title('Survived= 0 and Sex= female')\n",
    "ax[1][0].set_xticks(x1)\n",
    "\n",
    "data[(data['Survived']==1)&(data['Sex'] == 'female')]['Age'].hist(ax=ax[1][1],color='blue',bins=20)\n",
    "ax[1][1].set_title('Survived= 1 and Sex= female')\n",
    "ax[1][1].set_xticks(x1)\n",
    "\n",
    "plt.show()"
   ]
  },
  {
   "cell_type": "markdown",
   "id": "4985015a",
   "metadata": {
    "papermill": {
     "duration": 0.011252,
     "end_time": "2023-11-03T13:03:49.743672",
     "exception": false,
     "start_time": "2023-11-03T13:03:49.732420",
     "status": "completed"
    },
    "tags": []
   },
   "source": [
    "### Survived vs Pclass/deck/Embarked"
   ]
  },
  {
   "cell_type": "code",
   "execution_count": 23,
   "id": "3c3f388a",
   "metadata": {
    "execution": {
     "iopub.execute_input": "2023-11-03T13:03:49.769071Z",
     "iopub.status.busy": "2023-11-03T13:03:49.768679Z",
     "iopub.status.idle": "2023-11-03T13:03:50.278602Z",
     "shell.execute_reply": "2023-11-03T13:03:50.277196Z"
    },
    "papermill": {
     "duration": 0.525028,
     "end_time": "2023-11-03T13:03:50.280534",
     "exception": false,
     "start_time": "2023-11-03T13:03:49.755506",
     "status": "completed"
    },
    "tags": []
   },
   "outputs": [
    {
     "data": {
      "image/png": "[encoded data removed]",
      "text/plain": [
       "<Figure size 1400x500 with 3 Axes>"
      ]
     },
     "metadata": {},
     "output_type": "display_data"
    }
   ],
   "source": [
    "f,ax = plt.subplots(1,3,figsize=(14,5))\n",
    "sns.countplot(x='Pclass',data=data,hue='Survived',ax=ax[0],palette='Set1')\n",
    "sns.countplot(x='deck',data=data,hue='Survived',ax=ax[1],palette='Set1')\n",
    "sns.countplot(x='Embarked',data=data,hue='Survived',ax=ax[2],palette='Set1')\n",
    "plt.show()"
   ]
  },
  {
   "cell_type": "markdown",
   "id": "5f1324c2",
   "metadata": {
    "papermill": {
     "duration": 0.010656,
     "end_time": "2023-11-03T13:03:50.303162",
     "exception": false,
     "start_time": "2023-11-03T13:03:50.292506",
     "status": "completed"
    },
    "tags": []
   },
   "source": [
    "### Fare by Pclass,deck and Embarked"
   ]
  },
  {
   "cell_type": "code",
   "execution_count": 24,
   "id": "1b83a1dd",
   "metadata": {
    "execution": {
     "iopub.execute_input": "2023-11-03T13:03:50.327173Z",
     "iopub.status.busy": "2023-11-03T13:03:50.326800Z",
     "iopub.status.idle": "2023-11-03T13:03:50.340191Z",
     "shell.execute_reply": "2023-11-03T13:03:50.339282Z"
    },
    "papermill": {
     "duration": 0.027881,
     "end_time": "2023-11-03T13:03:50.342200",
     "exception": false,
     "start_time": "2023-11-03T13:03:50.314319",
     "status": "completed"
    },
    "tags": []
   },
   "outputs": [
    {
     "data": {
      "text/html": [
       "<div>\n",
       "<style scoped>\n",
       "    .dataframe tbody tr th:only-of-type {\n",
       "        vertical-align: middle;\n",
       "    }\n",
       "\n",
       "    .dataframe tbody tr th {\n",
       "        vertical-align: top;\n",
       "    }\n",
       "\n",
       "    .dataframe thead th {\n",
       "        text-align: right;\n",
       "    }\n",
       "</style>\n",
       "<table border=\"1\" class=\"dataframe\">\n",
       "  <thead>\n",
       "    <tr style=\"text-align: right;\">\n",
       "      <th></th>\n",
       "      <th>mean</th>\n",
       "    </tr>\n",
       "    <tr>\n",
       "      <th>Pclass</th>\n",
       "      <th></th>\n",
       "    </tr>\n",
       "  </thead>\n",
       "  <tbody>\n",
       "    <tr>\n",
       "      <th>1</th>\n",
       "      <td>87.555777</td>\n",
       "    </tr>\n",
       "    <tr>\n",
       "      <th>2</th>\n",
       "      <td>21.179196</td>\n",
       "    </tr>\n",
       "    <tr>\n",
       "      <th>3</th>\n",
       "      <td>13.302889</td>\n",
       "    </tr>\n",
       "  </tbody>\n",
       "</table>\n",
       "</div>"
      ],
      "text/plain": [
       "             mean\n",
       "Pclass           \n",
       "1       87.555777\n",
       "2       21.179196\n",
       "3       13.302889"
      ]
     },
     "execution_count": 24,
     "metadata": {},
     "output_type": "execute_result"
    }
   ],
   "source": [
    "data.groupby('Pclass')['Fare'].agg(['mean']).sort_values(by='mean',ascending=False)"
   ]
  },
  {
   "cell_type": "code",
   "execution_count": 25,
   "id": "9cebf09c",
   "metadata": {
    "execution": {
     "iopub.execute_input": "2023-11-03T13:03:50.369896Z",
     "iopub.status.busy": "2023-11-03T13:03:50.368614Z",
     "iopub.status.idle": "2023-11-03T13:03:50.381869Z",
     "shell.execute_reply": "2023-11-03T13:03:50.380382Z"
    },
    "papermill": {
     "duration": 0.030212,
     "end_time": "2023-11-03T13:03:50.384105",
     "exception": false,
     "start_time": "2023-11-03T13:03:50.353893",
     "status": "completed"
    },
    "tags": []
   },
   "outputs": [
    {
     "data": {
      "text/html": [
       "<div>\n",
       "<style scoped>\n",
       "    .dataframe tbody tr th:only-of-type {\n",
       "        vertical-align: middle;\n",
       "    }\n",
       "\n",
       "    .dataframe tbody tr th {\n",
       "        vertical-align: top;\n",
       "    }\n",
       "\n",
       "    .dataframe thead th {\n",
       "        text-align: right;\n",
       "    }\n",
       "</style>\n",
       "<table border=\"1\" class=\"dataframe\">\n",
       "  <thead>\n",
       "    <tr style=\"text-align: right;\">\n",
       "      <th></th>\n",
       "      <th>mean</th>\n",
       "    </tr>\n",
       "    <tr>\n",
       "      <th>deck</th>\n",
       "      <th></th>\n",
       "    </tr>\n",
       "  </thead>\n",
       "  <tbody>\n",
       "    <tr>\n",
       "      <th>B</th>\n",
       "      <td>512.329200</td>\n",
       "    </tr>\n",
       "    <tr>\n",
       "      <th>C</th>\n",
       "      <td>203.028348</td>\n",
       "    </tr>\n",
       "    <tr>\n",
       "      <th>E</th>\n",
       "      <td>129.072727</td>\n",
       "    </tr>\n",
       "    <tr>\n",
       "      <th>D</th>\n",
       "      <td>94.340849</td>\n",
       "    </tr>\n",
       "    <tr>\n",
       "      <th>A</th>\n",
       "      <td>60.018161</td>\n",
       "    </tr>\n",
       "    <tr>\n",
       "      <th>F</th>\n",
       "      <td>37.967507</td>\n",
       "    </tr>\n",
       "    <tr>\n",
       "      <th>T</th>\n",
       "      <td>26.114334</td>\n",
       "    </tr>\n",
       "    <tr>\n",
       "      <th>G</th>\n",
       "      <td>9.470114</td>\n",
       "    </tr>\n",
       "  </tbody>\n",
       "</table>\n",
       "</div>"
      ],
      "text/plain": [
       "            mean\n",
       "deck            \n",
       "B     512.329200\n",
       "C     203.028348\n",
       "E     129.072727\n",
       "D      94.340849\n",
       "A      60.018161\n",
       "F      37.967507\n",
       "T      26.114334\n",
       "G       9.470114"
      ]
     },
     "execution_count": 25,
     "metadata": {},
     "output_type": "execute_result"
    }
   ],
   "source": [
    "data.groupby('deck')['Fare'].agg(['mean']).sort_values(by='mean',ascending=False)"
   ]
  },
  {
   "cell_type": "code",
   "execution_count": 26,
   "id": "56442732",
   "metadata": {
    "execution": {
     "iopub.execute_input": "2023-11-03T13:03:50.409209Z",
     "iopub.status.busy": "2023-11-03T13:03:50.408884Z",
     "iopub.status.idle": "2023-11-03T13:03:50.420188Z",
     "shell.execute_reply": "2023-11-03T13:03:50.419010Z"
    },
    "papermill": {
     "duration": 0.025681,
     "end_time": "2023-11-03T13:03:50.422048",
     "exception": false,
     "start_time": "2023-11-03T13:03:50.396367",
     "status": "completed"
    },
    "tags": []
   },
   "outputs": [
    {
     "data": {
      "text/html": [
       "<div>\n",
       "<style scoped>\n",
       "    .dataframe tbody tr th:only-of-type {\n",
       "        vertical-align: middle;\n",
       "    }\n",
       "\n",
       "    .dataframe tbody tr th {\n",
       "        vertical-align: top;\n",
       "    }\n",
       "\n",
       "    .dataframe thead th {\n",
       "        text-align: right;\n",
       "    }\n",
       "</style>\n",
       "<table border=\"1\" class=\"dataframe\">\n",
       "  <thead>\n",
       "    <tr style=\"text-align: right;\">\n",
       "      <th></th>\n",
       "      <th>mean</th>\n",
       "    </tr>\n",
       "    <tr>\n",
       "      <th>Embarked</th>\n",
       "      <th></th>\n",
       "    </tr>\n",
       "  </thead>\n",
       "  <tbody>\n",
       "    <tr>\n",
       "      <th>C</th>\n",
       "      <td>62.336267</td>\n",
       "    </tr>\n",
       "    <tr>\n",
       "      <th>S</th>\n",
       "      <td>27.418824</td>\n",
       "    </tr>\n",
       "    <tr>\n",
       "      <th>Q</th>\n",
       "      <td>12.409012</td>\n",
       "    </tr>\n",
       "  </tbody>\n",
       "</table>\n",
       "</div>"
      ],
      "text/plain": [
       "               mean\n",
       "Embarked           \n",
       "C         62.336267\n",
       "S         27.418824\n",
       "Q         12.409012"
      ]
     },
     "execution_count": 26,
     "metadata": {},
     "output_type": "execute_result"
    }
   ],
   "source": [
    "data.groupby('Embarked')['Fare'].agg(['mean']).sort_values(by='mean',ascending=False)"
   ]
  },
  {
   "cell_type": "code",
   "execution_count": 27,
   "id": "a9392082",
   "metadata": {
    "execution": {
     "iopub.execute_input": "2023-11-03T13:03:50.446751Z",
     "iopub.status.busy": "2023-11-03T13:03:50.445759Z",
     "iopub.status.idle": "2023-11-03T13:03:51.236767Z",
     "shell.execute_reply": "2023-11-03T13:03:51.235576Z"
    },
    "papermill": {
     "duration": 0.806224,
     "end_time": "2023-11-03T13:03:51.239524",
     "exception": false,
     "start_time": "2023-11-03T13:03:50.433300",
     "status": "completed"
    },
    "tags": []
   },
   "outputs": [
    {
     "data": {
      "image/png": "[encoded data removed]",
      "text/plain": [
       "<Figure size 1400x600 with 3 Axes>"
      ]
     },
     "metadata": {},
     "output_type": "display_data"
    }
   ],
   "source": [
    "f,ax = plt.subplots(1,3,figsize=(14,6))\n",
    "sns.barplot(x='Pclass',y='Fare',data=data,ax=ax[0])\n",
    "sns.barplot(x='deck',y='Fare',data=data,ax=ax[1])\n",
    "sns.barplot(x='Embarked',y='Fare',data=data,ax=ax[2])\n",
    "plt.show()"
   ]
  },
  {
   "cell_type": "markdown",
   "id": "68b388da",
   "metadata": {
    "papermill": {
     "duration": 0.011244,
     "end_time": "2023-11-03T13:03:51.263136",
     "exception": false,
     "start_time": "2023-11-03T13:03:51.251892",
     "status": "completed"
    },
    "tags": []
   },
   "source": [
    "## Conclusion\n",
    "In the collision between the Titanic and the iceberg, 42% of the total passengers died, 32% survived, and it is unknown what happened to 26%. The number of dead women is significantly higher compared to men. <br>\n",
    "**Can money help when death comes 🤔 ?!** <br>\n",
    "Based on data from the dataset, passengers who paid more fares survived longer than those who paid less. <br>\n",
    "**But!!!** <br>\n",
    "The people who boarded the ship with low fares were mostly ordinary people. It is obvious that those who boarded the ship with high fares were rich people. During the rescue, attention was paid to the class of people. may be. <br>\n",
    "Analyzing by age, the majority of passengers were men and women between the ages of 25-30. Therefore, death and survival were mostly observed in this age range. \n",
    "If we look at classes, people in class 3 died more. <br>\n",
    "The death toll by city is almost twice as many as the number of survivors in Southampton."
   ]
  }
 ],
 "metadata": {
  "kernelspec": {
   "display_name": "Python 3",
   "language": "python",
   "name": "python3"
  },
  "language_info": {
   "codemirror_mode": {
    "name": "ipython",
    "version": 3
   },
   "file_extension": ".py",
   "mimetype": "text/x-python",
   "name": "python",
   "nbconvert_exporter": "python",
   "pygments_lexer": "ipython3",
   "version": "3.10.12"
  },
  "papermill": {
   "default_parameters": {},
   "duration": 9.118211,
   "end_time": "2023-11-03T13:03:51.796830",
   "environment_variables": {},
   "exception": null,
   "input_path": "__notebook__.ipynb",
   "output_path": "__notebook__.ipynb",
   "parameters": {},
   "start_time": "2023-11-03T13:03:42.678619",
   "version": "2.4.0"
  }
 },
 "nbformat": 4,
 "nbformat_minor": 5
}
